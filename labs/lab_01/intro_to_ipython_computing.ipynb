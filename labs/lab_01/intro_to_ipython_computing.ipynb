{
 "metadata": {
  "name": "",
  "signature": "sha256:8661f58a17036f1873649d980bc07ddcd5d0e2692bb2f23d7af25f9dac62f5f6"
 },
 "nbformat": 3,
 "nbformat_minor": 0,
 "worksheets": [
  {
   "cells": [
    {
     "cell_type": "markdown",
     "metadata": {},
     "source": [
      "GA Data Science - Introduction to Python and computing in the Interactive Python environment\n",
      "======="
     ]
    },
    {
     "cell_type": "markdown",
     "metadata": {},
     "source": [
      "#What is IPython?\n",
      "###Interactive Computing Environment...\n",
      "to execute a cell hit shift+enter"
     ]
    },
    {
     "cell_type": "code",
     "collapsed": false,
     "input": [
      "1+1"
     ],
     "language": "python",
     "metadata": {},
     "outputs": [
      {
       "metadata": {},
       "output_type": "pyout",
       "prompt_number": 1,
       "text": [
        "2"
       ]
      }
     ],
     "prompt_number": 1
    },
    {
     "cell_type": "code",
     "collapsed": false,
     "input": [
      "print 'hello world'"
     ],
     "language": "python",
     "metadata": {},
     "outputs": [
      {
       "output_type": "stream",
       "stream": "stdout",
       "text": [
        "hello world\n"
       ]
      }
     ],
     "prompt_number": 2
    },
    {
     "cell_type": "markdown",
     "metadata": {},
     "source": [
      "###but so much more..."
     ]
    },
    {
     "cell_type": "code",
     "collapsed": false,
     "input": [
      "from IPython.core.display import HTML\n",
      "HTML(\"<iframe src=http://www.ipython.org width=1000 height=800></iframe>\")"
     ],
     "language": "python",
     "metadata": {},
     "outputs": [
      {
       "html": [
        "<iframe src=http://www.ipython.org width=1000 height=800></iframe>"
       ],
       "metadata": {},
       "output_type": "pyout",
       "prompt_number": 5,
       "text": [
        "<IPython.core.display.HTML at 0x101518410>"
       ]
      }
     ],
     "prompt_number": 5
    },
    {
     "cell_type": "code",
     "collapsed": false,
     "input": [
      "%matplotlib inline\n",
      "import matplotlib.pyplot as plt\n",
      "import numpy as np\n",
      "from IPython.core.pylabtools import figsize\n",
      "figsize(12,5)\n",
      "# plt.style.use('fivethirtyeight')\n",
      "\n",
      "x = np.linspace(0, 2*np.pi, 42)\n",
      "f1 = 5 * np.sin(x)\n",
      "f2 = 2 * np.sin(2*x)\n",
      "f3 = 1 * np.sin(3*x)\n",
      "plt.plot(x, f1)\n",
      "plt.plot(x, f2, 'ro')\n",
      "plt.plot(x, f3, 'g--')\n",
      "plt.title('Hello Plot')"
     ],
     "language": "python",
     "metadata": {},
     "outputs": [
      {
       "metadata": {},
       "output_type": "pyout",
       "prompt_number": 31,
       "text": [
        "<matplotlib.text.Text at 0x10381edd0>"
       ]
      },
      {
       "metadata": {},
       "output_type": "display_data",
       "png": "[encoded data removed]",
       "text": [
        "<matplotlib.figure.Figure at 0x10151c790>"
       ]
      }
     ],
     "prompt_number": 31
    },
    {
     "cell_type": "markdown",
     "metadata": {},
     "source": [
      "_NOTE:_ Looks like Anaconda distribution is out-of-date with the latest matplotlib, if you get an error running the above cell try<br> \n",
      "`$ conda update matplotlib`<br>\n",
      "to get custom syle-sheets working do:<br>"
     ]
    },
    {
     "cell_type": "code",
     "collapsed": false,
     "input": [
      "from IPython.html.widgets import interact\n",
      "import numpy as np\n",
      "def plot_powers(y_power=1):\n",
      "    x = np.arange(10)\n",
      "    y_true = np.arange(10) ** 2  # Assume true model is Y = X ** 2\n",
      "    plt.scatter(x, y_true)  # Plot the true values as a scatter plot\n",
      "    # Now try out the model with various powers\n",
      "    y_model = np.arange(10) ** y_power\n",
      "    plt.plot(x, y_model, 'r-')  # Plot the model\n",
      "_ = interact(plot_powers, x_power=(1, 5), y_power=(1, 5))"
     ],
     "language": "python",
     "metadata": {},
     "outputs": []
    },
    {
     "cell_type": "markdown",
     "metadata": {},
     "source": [
      "###In fact it's magic...\n",
      "IPython provides a suite of command tools to do useful stuff, here are a few:<br>\n",
      "`!` submits a UNIX shell command"
     ]
    },
    {
     "cell_type": "code",
     "collapsed": false,
     "input": [
      "!ls -la"
     ],
     "language": "python",
     "metadata": {},
     "outputs": []
    },
    {
     "cell_type": "markdown",
     "metadata": {},
     "source": [
      "`%%time` will calculate how long a cell took to execute"
     ]
    },
    {
     "cell_type": "code",
     "collapsed": false,
     "input": [
      "%%time\n",
      "a = [x for x in range(1000000)]\n",
      "del a"
     ],
     "language": "python",
     "metadata": {},
     "outputs": []
    },
    {
     "cell_type": "code",
     "collapsed": false,
     "input": [
      "%lsmagic"
     ],
     "language": "python",
     "metadata": {},
     "outputs": []
    },
    {
     "cell_type": "code",
     "collapsed": false,
     "input": [
      "?str.upper()"
     ],
     "language": "python",
     "metadata": {},
     "outputs": []
    },
    {
     "cell_type": "markdown",
     "metadata": {},
     "source": [
      "#Programming in Python\n",
      "What do we already know?\n",
      "* variables?\n",
      "* `for` loop?\n",
      "* arrays? lists?\n",
      "* hash table? dictionary?\n",
      "* functions? classes?\n",
      "* decorators? generators?"
     ]
    },
    {
     "cell_type": "markdown",
     "metadata": {},
     "source": [
      "##00 - Basic Python execution"
     ]
    },
    {
     "cell_type": "code",
     "collapsed": false,
     "input": [
      "a = 1\n",
      "b = 2\n",
      "a+b"
     ],
     "language": "python",
     "metadata": {},
     "outputs": [
      {
       "metadata": {},
       "output_type": "pyout",
       "prompt_number": 8,
       "text": [
        "3"
       ]
      }
     ],
     "prompt_number": 8
    },
    {
     "cell_type": "code",
     "collapsed": false,
     "input": [
      "1/2"
     ],
     "language": "python",
     "metadata": {},
     "outputs": [
      {
       "metadata": {},
       "output_type": "pyout",
       "prompt_number": 9,
       "text": [
        "0"
       ]
      }
     ],
     "prompt_number": 9
    },
    {
     "cell_type": "markdown",
     "metadata": {},
     "source": [
      "Wuuuhhh? BEWARE OF INTEGER DIVISION!"
     ]
    },
    {
     "cell_type": "code",
     "collapsed": false,
     "input": [
      "1.0/2"
     ],
     "language": "python",
     "metadata": {},
     "outputs": [
      {
       "metadata": {},
       "output_type": "pyout",
       "prompt_number": 32,
       "text": [
        "0.5"
       ]
      }
     ],
     "prompt_number": 32
    },
    {
     "cell_type": "markdown",
     "metadata": {},
     "source": [
      "That feels better"
     ]
    },
    {
     "cell_type": "code",
     "collapsed": false,
     "input": [
      "name = 'Christopher'\n",
      "print name"
     ],
     "language": "python",
     "metadata": {},
     "outputs": [
      {
       "output_type": "stream",
       "stream": "stdout",
       "text": [
        "Christopher\n"
       ]
      }
     ],
     "prompt_number": 34
    },
    {
     "cell_type": "markdown",
     "metadata": {},
     "source": [
      "Sting Concatenation with `+`"
     ]
    },
    {
     "cell_type": "code",
     "collapsed": false,
     "input": [
      "truth = name + ' is amazing'\n",
      "print truth"
     ],
     "language": "python",
     "metadata": {},
     "outputs": [
      {
       "output_type": "stream",
       "stream": "stdout",
       "text": [
        "Christopher is amazing\n"
       ]
      }
     ],
     "prompt_number": 35
    },
    {
     "cell_type": "code",
     "collapsed": false,
     "input": [
      "zeal = (truth+'! ')*10\n",
      "print zeal"
     ],
     "language": "python",
     "metadata": {},
     "outputs": [
      {
       "output_type": "stream",
       "stream": "stdout",
       "text": [
        "Christopher is amazing! Christopher is amazing! Christopher is amazing! Christopher is amazing! Christopher is amazing! Christopher is amazing! Christopher is amazing! Christopher is amazing! Christopher is amazing! Christopher is amazing! \n"
       ]
      }
     ],
     "prompt_number": 36
    },
    {
     "cell_type": "code",
     "collapsed": false,
     "input": [
      "emphatic_zeal = zeal.upper()\n",
      "print emphatic_zeal"
     ],
     "language": "python",
     "metadata": {},
     "outputs": [
      {
       "output_type": "stream",
       "stream": "stdout",
       "text": [
        "CHRISTOPHER IS AMAZING! CHRISTOPHER IS AMAZING! CHRISTOPHER IS AMAZING! CHRISTOPHER IS AMAZING! CHRISTOPHER IS AMAZING! CHRISTOPHER IS AMAZING! CHRISTOPHER IS AMAZING! CHRISTOPHER IS AMAZING! CHRISTOPHER IS AMAZING! CHRISTOPHER IS AMAZING! \n"
       ]
      }
     ],
     "prompt_number": 43
    },
    {
     "cell_type": "markdown",
     "metadata": {},
     "source": [
      "and so much more..."
     ]
    },
    {
     "cell_type": "code",
     "collapsed": false,
     "input": [
      "dir(emphatic_zeal)"
     ],
     "language": "python",
     "metadata": {},
     "outputs": []
    },
    {
     "cell_type": "markdown",
     "metadata": {},
     "source": [
      "##01 - Data Structures\n",
      "*Lists*<br>\n",
      "Python Lists can contain an arbitary list of objects.  It can be ints, strings, dictionaries, objects, and even functions.\n",
      "\n",
      "*Tuple*<br>\n",
      "Tuple is unique to Python and is not present in other languages.  Tuples are like lists, but cannot be appended or deleted after initialization.  You can create new Tuples, but cannot add more elements to existing tuple. Tuple is more efficient than Lists and has a subset of API that List has.\n",
      "\n",
      "*Sets*<br>\n",
      "Dicts are like lists, but the values are unique in the list.  You have additional functions to do Set unions, intersections etc.\n",
      "\n",
      "*Dictionaries*<br>\n",
      "Dictionaries (hashmap in other languages) creates a Key-Value container.  Just like lists, Values can be of any type - ints, strings, lists, functions and even another dict.\n",
      "\n",
      "The Key of dictionary must be \"immutable\" - int, string, tuple\n",
      "\n",
      "These classes can also be used as Iterable to access the elements.  Iterable is an object that can be iterated over (in a for loop for instance).  Just think of it as a sequence.  It would be clear once we do some examples.\n",
      "\n",
      "Below are examples of some of these data structures\n",
      "###01.1 - Lists"
     ]
    },
    {
     "cell_type": "code",
     "collapsed": false,
     "input": [
      "[1,2,3,10,9,8,100,32,13,13,13]"
     ],
     "language": "python",
     "metadata": {},
     "outputs": [
      {
       "metadata": {},
       "output_type": "pyout",
       "prompt_number": 44,
       "text": [
        "[1, 2, 3, 10, 9, 8, 100, 32, 13, 13, 13]"
       ]
      }
     ],
     "prompt_number": 44
    },
    {
     "cell_type": "code",
     "collapsed": false,
     "input": [
      "a = [1,2,3,10,9,8,100,32,13,13,13]"
     ],
     "language": "python",
     "metadata": {},
     "outputs": [],
     "prompt_number": 46
    },
    {
     "cell_type": "markdown",
     "metadata": {},
     "source": [
      "####01.1.1 - Indexing"
     ]
    },
    {
     "cell_type": "code",
     "collapsed": false,
     "input": [
      "a[0]"
     ],
     "language": "python",
     "metadata": {},
     "outputs": [
      {
       "metadata": {},
       "output_type": "pyout",
       "prompt_number": 47,
       "text": [
        "1"
       ]
      }
     ],
     "prompt_number": 47
    },
    {
     "cell_type": "markdown",
     "metadata": {},
     "source": [
      "####01.1.2 - Slicing"
     ]
    },
    {
     "cell_type": "code",
     "collapsed": false,
     "input": [
      "a[1:8]"
     ],
     "language": "python",
     "metadata": {},
     "outputs": [
      {
       "metadata": {},
       "output_type": "pyout",
       "prompt_number": 48,
       "text": [
        "[2, 3, 10, 9, 8, 100, 32]"
       ]
      }
     ],
     "prompt_number": 48
    },
    {
     "cell_type": "code",
     "collapsed": false,
     "input": [
      "a[1:8:2]"
     ],
     "language": "python",
     "metadata": {},
     "outputs": [
      {
       "metadata": {},
       "output_type": "pyout",
       "prompt_number": 49,
       "text": [
        "[2, 10, 8, 32]"
       ]
      }
     ],
     "prompt_number": 49
    },
    {
     "cell_type": "code",
     "collapsed": false,
     "input": [
      "a[-1]"
     ],
     "language": "python",
     "metadata": {},
     "outputs": [
      {
       "metadata": {},
       "output_type": "pyout",
       "prompt_number": 50,
       "text": [
        "13"
       ]
      }
     ],
     "prompt_number": 50
    },
    {
     "cell_type": "markdown",
     "metadata": {},
     "source": [
      "####01.1.3 - Slice/Transform"
     ]
    },
    {
     "cell_type": "code",
     "collapsed": false,
     "input": [
      "a[::-1]"
     ],
     "language": "python",
     "metadata": {},
     "outputs": [
      {
       "metadata": {},
       "output_type": "pyout",
       "prompt_number": 51,
       "text": [
        "[13, 13, 13, 32, 100, 8, 9, 10, 3, 2, 1]"
       ]
      }
     ],
     "prompt_number": 51
    },
    {
     "cell_type": "code",
     "collapsed": false,
     "input": [
      "a.reverse()\n",
      "a"
     ],
     "language": "python",
     "metadata": {},
     "outputs": [
      {
       "metadata": {},
       "output_type": "pyout",
       "prompt_number": 52,
       "text": [
        "[13, 13, 13, 32, 100, 8, 9, 10, 3, 2, 1]"
       ]
      }
     ],
     "prompt_number": 52
    },
    {
     "cell_type": "markdown",
     "metadata": {},
     "source": [
      "What is the difference between these methods?"
     ]
    },
    {
     "cell_type": "code",
     "collapsed": false,
     "input": [
      "a.numerator()\n",
      "a"
     ],
     "language": "python",
     "metadata": {},
     "outputs": [
      {
       "ename": "AttributeError",
       "evalue": "'list' object has no attribute 'numerator'",
       "output_type": "pyerr",
       "traceback": [
        "\u001b[0;31m---------------------------------------------------------------------------\u001b[0m\n\u001b[0;31mAttributeError\u001b[0m                            Traceback (most recent call last)",
        "\u001b[0;32m<ipython-input-55-c10852a22efe>\u001b[0m in \u001b[0;36m<module>\u001b[0;34m()\u001b[0m\n\u001b[0;32m----> 1\u001b[0;31m \u001b[0ma\u001b[0m\u001b[0;34m.\u001b[0m\u001b[0mnumerator\u001b[0m\u001b[0;34m(\u001b[0m\u001b[0;34m)\u001b[0m\u001b[0;34m\u001b[0m\u001b[0m\n\u001b[0m\u001b[1;32m      2\u001b[0m \u001b[0ma\u001b[0m\u001b[0;34m\u001b[0m\u001b[0m\n",
        "\u001b[0;31mAttributeError\u001b[0m: 'list' object has no attribute 'numerator'"
       ]
      }
     ],
     "prompt_number": 55
    },
    {
     "cell_type": "markdown",
     "metadata": {},
     "source": [
      "Lists can be any collection of objects:<br>\n",
      "Remember `truth`?"
     ]
    },
    {
     "cell_type": "code",
     "collapsed": false,
     "input": [
      "truth.split()"
     ],
     "language": "python",
     "metadata": {},
     "outputs": [
      {
       "metadata": {},
       "output_type": "pyout",
       "prompt_number": 56,
       "text": [
        "['Christopher', 'is', 'amazing']"
       ]
      }
     ],
     "prompt_number": 56
    },
    {
     "cell_type": "code",
     "collapsed": false,
     "input": [
      "truth_list = truth.split()\n",
      "truth_list[0]"
     ],
     "language": "python",
     "metadata": {},
     "outputs": [
      {
       "metadata": {},
       "output_type": "pyout",
       "prompt_number": 57,
       "text": [
        "'Christopher'"
       ]
      }
     ],
     "prompt_number": 57
    },
    {
     "cell_type": "markdown",
     "metadata": {},
     "source": [
      "###01.2 - Dictionaries\n",
      "Dictionaries are unordered sets of key : value pairs. That is, they not only store the value, but also what the value represents. "
     ]
    },
    {
     "cell_type": "code",
     "collapsed": false,
     "input": [
      "chad = {'favorite_number':2,\n",
      "        'favorite_color':'green',\n",
      "        'favorite_foods':['apples','ramen','baby seals']}\n",
      "chad"
     ],
     "language": "python",
     "metadata": {},
     "outputs": [
      {
       "metadata": {},
       "output_type": "pyout",
       "prompt_number": 58,
       "text": [
        "{'favorite_color': 'green',\n",
        " 'favorite_foods': ['apples', 'ramen', 'baby seals'],\n",
        " 'favorite_number': 2}"
       ]
      }
     ],
     "prompt_number": 58
    },
    {
     "cell_type": "code",
     "collapsed": false,
     "input": [
      "print chad.keys()\n",
      "print chad.values()"
     ],
     "language": "python",
     "metadata": {},
     "outputs": [
      {
       "output_type": "stream",
       "stream": "stdout",
       "text": [
        "['favorite_foods', 'favorite_color', 'favorite_number']\n",
        "[['apples', 'ramen', 'baby seals'], 'green', 2]\n"
       ]
      }
     ],
     "prompt_number": 59
    },
    {
     "cell_type": "markdown",
     "metadata": {},
     "source": [
      "Update (dictionary keys must be unique)"
     ]
    },
    {
     "cell_type": "code",
     "collapsed": false,
     "input": [
      "chad['favorite_number'] = chad['favorite_number']*2\n",
      "chad['favorite_number']"
     ],
     "language": "python",
     "metadata": {},
     "outputs": [
      {
       "metadata": {},
       "output_type": "pyout",
       "prompt_number": 60,
       "text": [
        "4"
       ]
      }
     ],
     "prompt_number": 60
    },
    {
     "cell_type": "markdown",
     "metadata": {},
     "source": [
      "You can nest dictionaries in dictionaries, to show complex relationships between objects"
     ]
    },
    {
     "cell_type": "code",
     "collapsed": false,
     "input": [
      "chad['family'] = {'wife':'shannon','children':['vye','jude','maeve']}\n",
      "chad"
     ],
     "language": "python",
     "metadata": {},
     "outputs": [
      {
       "metadata": {},
       "output_type": "pyout",
       "prompt_number": 61,
       "text": [
        "{'family': {'children': ['vye', 'jude', 'maeve'], 'wife': 'shannon'},\n",
        " 'favorite_color': 'green',\n",
        " 'favorite_foods': ['apples', 'ramen', 'baby seals'],\n",
        " 'favorite_number': 4}"
       ]
      }
     ],
     "prompt_number": 61
    },
    {
     "cell_type": "code",
     "collapsed": false,
     "input": [
      "chad['family']['children'][1]"
     ],
     "language": "python",
     "metadata": {},
     "outputs": [
      {
       "metadata": {},
       "output_type": "pyout",
       "prompt_number": 62,
       "text": [
        "'jude'"
       ]
      }
     ],
     "prompt_number": 62
    },
    {
     "cell_type": "markdown",
     "metadata": {},
     "source": [
      "The better way to create a dict in Python"
     ]
    },
    {
     "cell_type": "code",
     "collapsed": false,
     "input": [
      "travel = dict()\n",
      "travel['start'] = \"SFO\"\n",
      "travel['dest'] = \"NYC\"\n",
      "travel['miles'] = 2600\n",
      "travel['options'] = [\"United\", \"JetBlue\", \"SouthWest\"]\n",
      "travel\n"
     ],
     "language": "python",
     "metadata": {},
     "outputs": [
      {
       "metadata": {},
       "output_type": "pyout",
       "prompt_number": 63,
       "text": [
        "{'dest': 'NYC',\n",
        " 'miles': 2600,\n",
        " 'options': ['United', 'JetBlue', 'SouthWest'],\n",
        " 'start': 'SFO'}"
       ]
      }
     ],
     "prompt_number": 63
    },
    {
     "cell_type": "markdown",
     "metadata": {},
     "source": [
      "###01.3 - Tuples"
     ]
    },
    {
     "cell_type": "code",
     "collapsed": false,
     "input": [
      "a = ('dog','cat','orange')"
     ],
     "language": "python",
     "metadata": {},
     "outputs": [],
     "prompt_number": 64
    },
    {
     "cell_type": "code",
     "collapsed": false,
     "input": [
      "a[1]\n",
      "a\n"
     ],
     "language": "python",
     "metadata": {},
     "outputs": [
      {
       "metadata": {},
       "output_type": "pyout",
       "prompt_number": 65,
       "text": [
        "('dog', 'cat', 'orange')"
       ]
      }
     ],
     "prompt_number": 65
    },
    {
     "cell_type": "code",
     "collapsed": false,
     "input": [
      "a[1]='apple'\n",
      "a"
     ],
     "language": "python",
     "metadata": {},
     "outputs": [
      {
       "ename": "TypeError",
       "evalue": "'tuple' object does not support item assignment",
       "output_type": "pyerr",
       "traceback": [
        "\u001b[0;31m---------------------------------------------------------------------------\u001b[0m\n\u001b[0;31mTypeError\u001b[0m                                 Traceback (most recent call last)",
        "\u001b[0;32m<ipython-input-15-c952c6633111>\u001b[0m in \u001b[0;36m<module>\u001b[0;34m()\u001b[0m\n\u001b[0;32m----> 1\u001b[0;31m \u001b[0ma\u001b[0m\u001b[0;34m[\u001b[0m\u001b[0;36m1\u001b[0m\u001b[0;34m]\u001b[0m\u001b[0;34m=\u001b[0m\u001b[0;34m'apple'\u001b[0m\u001b[0;34m\u001b[0m\u001b[0m\n\u001b[0m\u001b[1;32m      2\u001b[0m \u001b[0ma\u001b[0m\u001b[0;34m\u001b[0m\u001b[0m\n",
        "\u001b[0;31mTypeError\u001b[0m: 'tuple' object does not support item assignment"
       ]
      }
     ],
     "prompt_number": 15
    },
    {
     "cell_type": "markdown",
     "metadata": {},
     "source": [
      "tuples are immutable"
     ]
    },
    {
     "cell_type": "markdown",
     "metadata": {},
     "source": [
      "##02 - Functions and Flows\n",
      "The basics of functions in Python are a definition (function name and input name[s]) and a return (output)."
     ]
    },
    {
     "cell_type": "code",
     "collapsed": false,
     "input": [
      "def put_a_bird_on_it(almost_anything):\n",
      "    return almost_anything+'??? put a bird on it!'"
     ],
     "language": "python",
     "metadata": {},
     "outputs": [],
     "prompt_number": 16
    },
    {
     "cell_type": "code",
     "collapsed": false,
     "input": [
      "put_a_bird_on_it('decorative plates')"
     ],
     "language": "python",
     "metadata": {},
     "outputs": [
      {
       "metadata": {},
       "output_type": "pyout",
       "prompt_number": 17,
       "text": [
        "'decorative plates??? put a bird on it!'"
       ]
      }
     ],
     "prompt_number": 17
    },
    {
     "cell_type": "code",
     "collapsed": false,
     "input": [
      "put_a_bird_on_it('4')"
     ],
     "language": "python",
     "metadata": {},
     "outputs": [
      {
       "metadata": {},
       "output_type": "pyout",
       "prompt_number": 19,
       "text": [
        "'4??? put a bird on it!'"
       ]
      }
     ],
     "prompt_number": 19
    },
    {
     "cell_type": "markdown",
     "metadata": {},
     "source": [
      "####02.1 - Iteration, how to do something to a lot of things...\n",
      "Put a bird on all these things"
     ]
    },
    {
     "cell_type": "code",
     "collapsed": false,
     "input": [
      "things = ['lamp shades','football helmets','brussel sprouts','dodge stratus']"
     ],
     "language": "python",
     "metadata": {},
     "outputs": [],
     "prompt_number": 20
    },
    {
     "cell_type": "markdown",
     "metadata": {},
     "source": [
      "The ugly way:"
     ]
    },
    {
     "cell_type": "code",
     "collapsed": false,
     "input": [
      "list_of_bird_things = []\n",
      "num_items = len(things)\n",
      "for i in range(num_items):\n",
      "    bird_thing = put_a_bird_on_it(things[i])\n",
      "    list_of_bird_things.append(bird_thing)\n",
      "list_of_bird_things"
     ],
     "language": "python",
     "metadata": {},
     "outputs": [
      {
       "metadata": {},
       "output_type": "pyout",
       "prompt_number": 21,
       "text": [
        "['lamp shades??? put a bird on it!',\n",
        " 'football helmets??? put a bird on it!',\n",
        " 'brussel sprouts??? put a bird on it!',\n",
        " 'dodge stratus??? put a bird on it!']"
       ]
      }
     ],
     "prompt_number": 21
    },
    {
     "cell_type": "markdown",
     "metadata": {},
     "source": [
      "But python knows what lists are for....iterating:"
     ]
    },
    {
     "cell_type": "code",
     "collapsed": false,
     "input": [
      "list_of_bird_things = []\n",
      "for item in things:\n",
      "    list_of_bird_things.append(put_a_bird_on_it(item))\n",
      "list_of_bird_things"
     ],
     "language": "python",
     "metadata": {},
     "outputs": [
      {
       "metadata": {},
       "output_type": "pyout",
       "prompt_number": 22,
       "text": [
        "['lamp shades??? put a bird on it!',\n",
        " 'football helmets??? put a bird on it!',\n",
        " 'brussel sprouts??? put a bird on it!',\n",
        " 'dodge stratus??? put a bird on it!']"
       ]
      }
     ],
     "prompt_number": 22
    },
    {
     "cell_type": "markdown",
     "metadata": {},
     "source": [
      "Pythonic Tangent - the above pattern of creating a list by iterating over another list is so common that Python has elevated the pattern to syntax called a List Comprehension. So we can express the same statement above as:"
     ]
    },
    {
     "cell_type": "code",
     "collapsed": false,
     "input": [
      "list_of_bird_things = [put_a_bird_on_it(item) for item in things]\n",
      "list_of_bird_things"
     ],
     "language": "python",
     "metadata": {},
     "outputs": [
      {
       "metadata": {},
       "output_type": "pyout",
       "prompt_number": 23,
       "text": [
        "['lamp shades??? put a bird on it!',\n",
        " 'football helmets??? put a bird on it!',\n",
        " 'brussel sprouts??? put a bird on it!',\n",
        " 'dodge stratus??? put a bird on it!']"
       ]
      }
     ],
     "prompt_number": 23
    },
    {
     "cell_type": "markdown",
     "metadata": {},
     "source": [
      "Functional Tangent - feel free to ignore this :)"
     ]
    },
    {
     "cell_type": "code",
     "collapsed": false,
     "input": [
      "map(put_a_bird_on_it,things)"
     ],
     "language": "python",
     "metadata": {},
     "outputs": [
      {
       "metadata": {},
       "output_type": "pyout",
       "prompt_number": 24,
       "text": [
        "['lamp shades??? put a bird on it!',\n",
        " 'football helmets??? put a bird on it!',\n",
        " 'brussel sprouts??? put a bird on it!',\n",
        " 'dodge stratus??? put a bird on it!']"
       ]
      }
     ],
     "prompt_number": 24
    },
    {
     "cell_type": "markdown",
     "metadata": {},
     "source": [
      "####02.2 - Control Flow"
     ]
    },
    {
     "cell_type": "code",
     "collapsed": false,
     "input": [
      "if True:\n",
      "    print 'hello'"
     ],
     "language": "python",
     "metadata": {},
     "outputs": [
      {
       "output_type": "stream",
       "stream": "stdout",
       "text": [
        "hello\n"
       ]
      }
     ],
     "prompt_number": 66
    },
    {
     "cell_type": "code",
     "collapsed": false,
     "input": [
      "if 'abc'=='Abc':\n",
      "    print 'hello'\n",
      "else: \n",
      "    print 'goodbye'"
     ],
     "language": "python",
     "metadata": {},
     "outputs": [
      {
       "output_type": "stream",
       "stream": "stdout",
       "text": [
        "goodbye\n"
       ]
      }
     ],
     "prompt_number": 67
    },
    {
     "cell_type": "code",
     "collapsed": false,
     "input": [
      "lst = [23,32,2,3]\n",
      "for item in lst:\n",
      "    if item%2==0: #modulus operator\n",
      "        print 'even'\n",
      "    elif item%2!=0:\n",
      "        print 'odd'"
     ],
     "language": "python",
     "metadata": {},
     "outputs": [
      {
       "output_type": "stream",
       "stream": "stdout",
       "text": [
        "odd\n",
        "even\n",
        "even\n",
        "odd\n"
       ]
      }
     ],
     "prompt_number": 27
    },
    {
     "cell_type": "markdown",
     "metadata": {},
     "source": [
      "##LAB EXERCISE 1: Functions, Data Structures, and flow controls\n",
      "####Given some data:"
     ]
    },
    {
     "cell_type": "code",
     "collapsed": false,
     "input": [
      "data = [ 5,  9,  6,  1, 10,  7,  5,  0,  2,  4,  4,  6, 10,  8, 14,  0, 11,\n",
      "       12,  0,  7, 14,  1,  3,  7,  8, 14,  9,  2,  8, 14, 11,  6,  6,  6,\n",
      "        0,  3, 10,  2, 14,  6,  7,  7,  3, 13,  0,  4, 12,  4, 10,  8,  8,\n",
      "        6,  8,  8,  7,  2, 14, 13,  0,  7, 10,  2,  4, 12,  6, 12,  1,  3,\n",
      "        2,  0,  1,  8,  8,  4,  1, 10,  2, 13,  3,  4,  8,  7,  6, 10, 11,\n",
      "        6, 10,  8,  5,  9,  7,  7,  8, 13,  3, 14,  7,  9, 11,  8]"
     ],
     "language": "python",
     "metadata": {},
     "outputs": [],
     "prompt_number": 28
    },
    {
     "cell_type": "markdown",
     "metadata": {},
     "source": [
      "####Write a function that will take a list of integers and return a dictionary where the keys are the unique integers in the list and values are the number of times they occur in the list.\n",
      "e.g. `[ 1 , 2 , 1 , 1 , 2 , 12 ] -> { 1:3 , 2:2 , 12:1 }`"
     ]
    },
    {
     "cell_type": "code",
     "collapsed": false,
     "input": [
      "dictCount = {}\n",
      "for i in data:\n",
      "\tdictCount[i] = data.count(i)\n",
      "print dictCount"
     ],
     "language": "python",
     "metadata": {},
     "outputs": [
      {
       "output_type": "stream",
       "stream": "stdout",
       "text": [
        "{0: 7, 1: 5, 2: 7, 3: 6, 4: 7, 5: 3, 6: 10, 7: 11, 8: 13, 9: 4, 10: 8, 11: 4, 12: 4, 13: 4, 14: 7}\n"
       ]
      }
     ],
     "prompt_number": 29
    },
    {
     "cell_type": "markdown",
     "metadata": {},
     "source": [
      "####If you're done, try exploring some of the built-in list functions"
     ]
    },
    {
     "cell_type": "code",
     "collapsed": false,
     "input": [
      "dir(list)"
     ],
     "language": "python",
     "metadata": {},
     "outputs": [
      {
       "metadata": {},
       "output_type": "pyout",
       "prompt_number": 68,
       "text": [
        "['__add__',\n",
        " '__class__',\n",
        " '__contains__',\n",
        " '__delattr__',\n",
        " '__delitem__',\n",
        " '__delslice__',\n",
        " '__doc__',\n",
        " '__eq__',\n",
        " '__format__',\n",
        " '__ge__',\n",
        " '__getattribute__',\n",
        " '__getitem__',\n",
        " '__getslice__',\n",
        " '__gt__',\n",
        " '__hash__',\n",
        " '__iadd__',\n",
        " '__imul__',\n",
        " '__init__',\n",
        " '__iter__',\n",
        " '__le__',\n",
        " '__len__',\n",
        " '__lt__',\n",
        " '__mul__',\n",
        " '__ne__',\n",
        " '__new__',\n",
        " '__reduce__',\n",
        " '__reduce_ex__',\n",
        " '__repr__',\n",
        " '__reversed__',\n",
        " '__rmul__',\n",
        " '__setattr__',\n",
        " '__setitem__',\n",
        " '__setslice__',\n",
        " '__sizeof__',\n",
        " '__str__',\n",
        " '__subclasshook__',\n",
        " 'append',\n",
        " 'count',\n",
        " 'extend',\n",
        " 'index',\n",
        " 'insert',\n",
        " 'pop',\n",
        " 'remove',\n",
        " 'reverse',\n",
        " 'sort']"
       ]
      }
     ],
     "prompt_number": 68
    },
    {
     "cell_type": "code",
     "collapsed": false,
     "input": [
      "dictCount.sort()"
     ],
     "language": "python",
     "metadata": {},
     "outputs": [
      {
       "ename": "AttributeError",
       "evalue": "'dict' object has no attribute 'sort'",
       "output_type": "pyerr",
       "traceback": [
        "\u001b[0;31m---------------------------------------------------------------------------\u001b[0m\n\u001b[0;31mAttributeError\u001b[0m                            Traceback (most recent call last)",
        "\u001b[0;32m<ipython-input-69-9acb44c39876>\u001b[0m in \u001b[0;36m<module>\u001b[0;34m()\u001b[0m\n\u001b[0;32m----> 1\u001b[0;31m \u001b[0mdictCount\u001b[0m\u001b[0;34m.\u001b[0m\u001b[0msort\u001b[0m\u001b[0;34m(\u001b[0m\u001b[0;34m)\u001b[0m\u001b[0;34m\u001b[0m\u001b[0m\n\u001b[0m",
        "\u001b[0;31mAttributeError\u001b[0m: 'dict' object has no attribute 'sort'"
       ]
      }
     ],
     "prompt_number": 69
    },
    {
     "cell_type": "markdown",
     "metadata": {},
     "source": [
      "##03 - File I/O"
     ]
    },
    {
     "cell_type": "markdown",
     "metadata": {},
     "source": [
      "Sometimes we want to save some data for later use."
     ]
    },
    {
     "cell_type": "markdown",
     "metadata": {},
     "source": [
      "####03.1 - Regular file reading and writing"
     ]
    },
    {
     "cell_type": "code",
     "collapsed": false,
     "input": [
      "line = 'Call me Ishmael.\\n'\n",
      "print line"
     ],
     "language": "python",
     "metadata": {},
     "outputs": [
      {
       "output_type": "stream",
       "stream": "stdout",
       "text": [
        "Call me Ishmael.\n",
        "\n"
       ]
      }
     ],
     "prompt_number": 71
    },
    {
     "cell_type": "markdown",
     "metadata": {},
     "source": [
      "We can access our machines file storage system with `open` function."
     ]
    },
    {
     "cell_type": "code",
     "collapsed": false,
     "input": [
      "?open"
     ],
     "language": "python",
     "metadata": {},
     "outputs": [],
     "prompt_number": 72
    },
    {
     "cell_type": "markdown",
     "metadata": {},
     "source": [
      "Here we create a file and write our line to that file called `moby_dick.txt`"
     ]
    },
    {
     "cell_type": "code",
     "collapsed": false,
     "input": [
      "file_writer = open('moby_dick.txt','w')\n",
      "file_writer.write(line)\n",
      "file_writer.close()"
     ],
     "language": "python",
     "metadata": {},
     "outputs": [],
     "prompt_number": 73
    },
    {
     "cell_type": "markdown",
     "metadata": {},
     "source": [
      "Using shell magic we can read the file"
     ]
    },
    {
     "cell_type": "code",
     "collapsed": false,
     "input": [
      "!cat moby_dick.txt"
     ],
     "language": "python",
     "metadata": {},
     "outputs": [
      {
       "output_type": "stream",
       "stream": "stdout",
       "text": [
        "Call me Ishmael.\r\n"
       ]
      }
     ],
     "prompt_number": 74
    },
    {
     "cell_type": "markdown",
     "metadata": {},
     "source": [
      "If we want to read the contents of the file into memory, again we use the `open`.<br>\n",
      "*Don't forget to `close()` your file pointers*"
     ]
    },
    {
     "cell_type": "code",
     "collapsed": false,
     "input": [
      "file_reader = open('moby_dick.txt')\n",
      "md_txt = file_reader.read()\n",
      "file_reader.close()\n",
      "print md_txt"
     ],
     "language": "python",
     "metadata": {},
     "outputs": [
      {
       "output_type": "stream",
       "stream": "stdout",
       "text": [
        "Call me Ishmael.\n",
        "\n"
       ]
      }
     ],
     "prompt_number": 75
    },
    {
     "cell_type": "markdown",
     "metadata": {},
     "source": [
      "####03.2 - JSON, a real-world data format"
     ]
    },
    {
     "cell_type": "markdown",
     "metadata": {},
     "source": [
      "Remember our dictionary `chad`?<br>\n",
      "Python dictionaries comply with a data interchange format called <a href=http://tools.ietf.org/html/rfc4627.html>`JSON`</a>, which has become something of a standard in data storage/transfer...So, you're going to see a lot of it."
     ]
    },
    {
     "cell_type": "code",
     "collapsed": false,
     "input": [
      "chad['name'] = 'chad'"
     ],
     "language": "python",
     "metadata": {},
     "outputs": []
    },
    {
     "cell_type": "markdown",
     "metadata": {},
     "source": [
      "Now that we have a complete record, we want to make a list of records."
     ]
    },
    {
     "cell_type": "code",
     "collapsed": false,
     "input": [
      "people = []\n",
      "people.append(chad)"
     ],
     "language": "python",
     "metadata": {},
     "outputs": [],
     "prompt_number": 76
    },
    {
     "cell_type": "code",
     "collapsed": false,
     "input": [
      "tom_brady = {'name':'tom',\n",
      "             'family': {'children': ['john', 'benjamin', 'vivian'], 'wife': 'gisele'},\n",
      "             'favorite_color': 'blue',\n",
      "             'favorite_foods': ['tofu', 'kale', 'tree bark'],\n",
      "             'favorite_number': 12}\n",
      "people.append(tom_brady)\n",
      "people"
     ],
     "language": "python",
     "metadata": {},
     "outputs": [
      {
       "metadata": {},
       "output_type": "pyout",
       "prompt_number": 77,
       "text": [
        "[{'family': {'children': ['vye', 'jude', 'maeve'], 'wife': 'shannon'},\n",
        "  'favorite_color': 'green',\n",
        "  'favorite_foods': ['apples', 'ramen', 'baby seals'],\n",
        "  'favorite_number': 4},\n",
        " {'family': {'children': ['john', 'benjamin', 'vivian'], 'wife': 'gisele'},\n",
        "  'favorite_color': 'blue',\n",
        "  'favorite_foods': ['tofu', 'kale', 'tree bark'],\n",
        "  'favorite_number': 12,\n",
        "  'name': 'tom'}]"
       ]
      }
     ],
     "prompt_number": 77
    },
    {
     "cell_type": "markdown",
     "metadata": {},
     "source": [
      "At this point we could write our data to file using the same pattern as `moby_dick`, but we want to use the data as a dictionary. We would have to read the file, then parse the file to get retrieve this structure. (YUCK)<br> \n",
      "Luckily, Python provides some special tools for encoding and decoding `JSON` from/to dictionaries. "
     ]
    },
    {
     "cell_type": "code",
     "collapsed": false,
     "input": [
      "import json\n",
      "json.dump(people,open('people.json','w'))\n",
      "!cat people.json"
     ],
     "language": "python",
     "metadata": {},
     "outputs": [
      {
       "output_type": "stream",
       "stream": "stdout",
       "text": [
        "[{\"favorite_foods\": [\"apples\", \"ramen\", \"baby seals\"], \"favorite_color\": \"green\", \"favorite_number\": 4, \"family\": {\"children\": [\"vye\", \"jude\", \"maeve\"], \"wife\": \"shannon\"}}, {\"favorite_foods\": [\"tofu\", \"kale\", \"tree bark\"], \"favorite_color\": \"blue\", \"favorite_number\": 12, \"name\": \"tom\", \"family\": {\"children\": [\"john\", \"benjamin\", \"vivian\"], \"wife\": \"gisele\"}}]"
       ]
      }
     ],
     "prompt_number": 79
    },
    {
     "cell_type": "code",
     "collapsed": false,
     "input": [
      "another_people = json.load(open('people.json'))\n",
      "another_people"
     ],
     "language": "python",
     "metadata": {},
     "outputs": [
      {
       "metadata": {},
       "output_type": "pyout",
       "prompt_number": 80,
       "text": [
        "[{u'family': {u'children': [u'vye', u'jude', u'maeve'], u'wife': u'shannon'},\n",
        "  u'favorite_color': u'green',\n",
        "  u'favorite_foods': [u'apples', u'ramen', u'baby seals'],\n",
        "  u'favorite_number': 4},\n",
        " {u'family': {u'children': [u'john', u'benjamin', u'vivian'],\n",
        "   u'wife': u'gisele'},\n",
        "  u'favorite_color': u'blue',\n",
        "  u'favorite_foods': [u'tofu', u'kale', u'tree bark'],\n",
        "  u'favorite_number': 12,\n",
        "  u'name': u'tom'}]"
       ]
      }
     ],
     "prompt_number": 80
    },
    {
     "cell_type": "code",
     "collapsed": false,
     "input": [
      "favorite_numbers = []\n",
      "for record in another_people:\n",
      "    favorite_numbers.append(record['favorite_number'])\n",
      "print favorite_numbers"
     ],
     "language": "python",
     "metadata": {},
     "outputs": [
      {
       "output_type": "stream",
       "stream": "stdout",
       "text": [
        "[4, 12]\n"
       ]
      }
     ],
     "prompt_number": 87
    },
    {
     "cell_type": "markdown",
     "metadata": {},
     "source": [
      "##LAB EXERCISE 2: File I/O\n",
      "####`claims.json` is a `JSON` file that contains records of pharmaceutical claims processed by an insurance company.\n",
      "make sure you have `claims.json` in your current working directory"
     ]
    },
    {
     "cell_type": "code",
     "collapsed": false,
     "input": [
      "!ls"
     ],
     "language": "python",
     "metadata": {},
     "outputs": [
      {
       "output_type": "stream",
       "stream": "stdout",
       "text": [
        "README.md                        hello_git.txt                    intro_to_git.ipynb\r\n",
        "claims.json                      \u001b[34mimg\u001b[m\u001b[m                              intro_to_ipython_computing.ipynb\r\n"
       ]
      }
     ],
     "prompt_number": 70
    },
    {
     "cell_type": "markdown",
     "metadata": {},
     "source": [
      "####Use the `json` module to load these records into a variable"
     ]
    },
    {
     "cell_type": "code",
     "collapsed": false,
     "input": [
      "import json\n",
      "\n",
      "claims = json.load(open('claims.json'))\n",
      "print claims\n"
     ],
     "language": "python",
     "metadata": {},
     "outputs": [
      {
       "output_type": "stream",
       "stream": "stdout",
       "text": [
        "[]\n"
       ]
      }
     ],
     "prompt_number": 89
    },
    {
     "cell_type": "code",
     "collapsed": false,
     "input": [],
     "language": "python",
     "metadata": {},
     "outputs": [],
     "prompt_number": 86
    },
    {
     "cell_type": "markdown",
     "metadata": {},
     "source": [
      "####Now, use indexing and slicing to explore the data"
     ]
    },
    {
     "cell_type": "code",
     "collapsed": false,
     "input": [],
     "language": "python",
     "metadata": {},
     "outputs": []
    },
    {
     "cell_type": "code",
     "collapsed": false,
     "input": [],
     "language": "python",
     "metadata": {},
     "outputs": []
    },
    {
     "cell_type": "code",
     "collapsed": false,
     "input": [],
     "language": "python",
     "metadata": {},
     "outputs": []
    },
    {
     "cell_type": "markdown",
     "metadata": {},
     "source": [
      "####Analysis: What is the distribution of birthyears? "
     ]
    },
    {
     "cell_type": "code",
     "collapsed": false,
     "input": [
      "# None. The item is empty."
     ],
     "language": "python",
     "metadata": {},
     "outputs": []
    },
    {
     "cell_type": "markdown",
     "metadata": {},
     "source": [
      "####Analysis: I want to identify drugs that have a generic form but where doctors prescribe the non-generic. Drugs are uniquely identified by the `ndc` code, if it is the generic form the `generic` field will have a value of `'Y'`"
     ]
    },
    {
     "cell_type": "code",
     "collapsed": false,
     "input": [],
     "language": "python",
     "metadata": {},
     "outputs": []
    },
    {
     "cell_type": "code",
     "collapsed": false,
     "input": [],
     "language": "python",
     "metadata": {},
     "outputs": []
    },
    {
     "cell_type": "code",
     "collapsed": false,
     "input": [],
     "language": "python",
     "metadata": {},
     "outputs": []
    },
    {
     "cell_type": "code",
     "collapsed": false,
     "input": [],
     "language": "python",
     "metadata": {},
     "outputs": []
    }
   ],
   "metadata": {}
  }
 ]
}